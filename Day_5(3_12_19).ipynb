{
  "nbformat": 4,
  "nbformat_minor": 0,
  "metadata": {
    "colab": {
      "name": "Day-5(3/12/19).ipynb",
      "provenance": [],
      "include_colab_link": true
    },
    "kernelspec": {
      "name": "python3",
      "display_name": "Python 3"
    }
  },
  "cells": [
    {
      "cell_type": "markdown",
      "metadata": {
        "id": "view-in-github",
        "colab_type": "text"
      },
      "source": [
        "<a href=\"https://colab.research.google.com/github/vikasreddy407/python12/blob/master/Day_5(3_12_19).ipynb\" target=\"_parent\"><img src=\"https://colab.research.google.com/assets/colab-badge.svg\" alt=\"Open In Colab\"/></a>"
      ]
    },
    {
      "cell_type": "markdown",
      "metadata": {
        "id": "KMIaWDlD6ECg",
        "colab_type": "text"
      },
      "source": [
        "# python programming\n",
        "## python programming\n",
        "###  python programming\n",
        "####  python programming\n",
        "#####  python programming\n",
        "######  python programming\n"
      ]
    },
    {
      "cell_type": "markdown",
      "metadata": {
        "id": "mKXF3cmj-lxh",
        "colab_type": "text"
      },
      "source": [
        "\n",
        "\n",
        "1.   python basic\n",
        "2.   python advance\n",
        "3.   python program\n",
        "\n"
      ]
    },
    {
      "cell_type": "markdown",
      "metadata": {
        "id": "Etrec7TW_wGT",
        "colab_type": "text"
      },
      "source": [
        "![image](https://image.shutterstock.com/image-photo/bright-spring-view-cameo-island-260nw-1048185397.jpg)"
      ]
    },
    {
      "cell_type": "markdown",
      "metadata": {
        "id": "L9YVRIylA8iB",
        "colab_type": "text"
      },
      "source": [
        "[click here](https://www.google.com/)\n",
        "\n"
      ]
    },
    {
      "cell_type": "code",
      "metadata": {
        "id": "dSY2nD2YEYXa",
        "colab_type": "code",
        "outputId": "a3e32e6b-7312-4d76-b1cb-ddf686ac7773",
        "colab": {
          "base_uri": "https://localhost:8080/",
          "height": 34
        }
      },
      "source": [
        "print(\"hello world\")"
      ],
      "execution_count": 0,
      "outputs": [
        {
          "output_type": "stream",
          "text": [
            "hello world\n"
          ],
          "name": "stdout"
        }
      ]
    },
    {
      "cell_type": "code",
      "metadata": {
        "id": "hNQ_AsCQFZNa",
        "colab_type": "code",
        "outputId": "8238b0de-8014-4b1c-b246-7b7e8d85501c",
        "colab": {
          "base_uri": "https://localhost:8080/",
          "height": 68
        }
      },
      "source": [
        "x = 10\n",
        "y = 30\n",
        "print(x + y)\n",
        "print(x - y)\n",
        "x * y\n"
      ],
      "execution_count": 0,
      "outputs": [
        {
          "output_type": "stream",
          "text": [
            "40\n",
            "-20\n"
          ],
          "name": "stdout"
        },
        {
          "output_type": "execute_result",
          "data": {
            "text/plain": [
              "300"
            ]
          },
          "metadata": {
            "tags": []
          },
          "execution_count": 8
        }
      ]
    },
    {
      "cell_type": "code",
      "metadata": {
        "id": "Bo9H19otIFPr",
        "colab_type": "code",
        "outputId": "e9be2995-179f-47ec-baec-def4eb6a478e",
        "colab": {
          "base_uri": "https://localhost:8080/",
          "height": 68
        }
      },
      "source": [
        "x = int(input(\"enter x value\"))\n",
        "y = int(input(\"enter y value\"))\n",
        "x + y\n"
      ],
      "execution_count": 0,
      "outputs": [
        {
          "output_type": "stream",
          "text": [
            "enter x value10\n",
            "enter y value20\n"
          ],
          "name": "stdout"
        },
        {
          "output_type": "execute_result",
          "data": {
            "text/plain": [
              "30"
            ]
          },
          "metadata": {
            "tags": []
          },
          "execution_count": 13
        }
      ]
    },
    {
      "cell_type": "code",
      "metadata": {
        "id": "vKnm0_bBKvIq",
        "colab_type": "code",
        "outputId": "781ccef2-97f7-42f2-8c3a-9a0456142004",
        "colab": {
          "base_uri": "https://localhost:8080/",
          "height": 84
        }
      },
      "source": [
        "x = input(\"enter the name\")\n",
        "y = input(\"enter the age\")\n",
        "print(x)\n",
        "print(y)"
      ],
      "execution_count": 0,
      "outputs": [
        {
          "output_type": "stream",
          "text": [
            "enter the nameVIKAS REDDY\n",
            "enter the age19\n",
            "VIKAS REDDY\n",
            "19\n"
          ],
          "name": "stdout"
        }
      ]
    },
    {
      "cell_type": "code",
      "metadata": {
        "id": "wibmJSKdMxOq",
        "colab_type": "code",
        "outputId": "f0188641-97f1-436f-d74e-5b9a018cdfa7",
        "colab": {
          "base_uri": "https://localhost:8080/",
          "height": 68
        }
      },
      "source": [
        "name = input(\"enter your name\")\n",
        "age = int(input(\"enter your age\"))\n",
        "print(\"my name is\",name,\"and my age is\",age)"
      ],
      "execution_count": 0,
      "outputs": [
        {
          "output_type": "stream",
          "text": [
            "enter your nameVikas Reddy\n",
            "enter your age19\n",
            "my name is Vikas Reddy and my age is 19\n"
          ],
          "name": "stdout"
        }
      ]
    },
    {
      "cell_type": "code",
      "metadata": {
        "id": "R0Yj4DhzOM1C",
        "colab_type": "code",
        "outputId": "c8a980b5-09f5-45d9-b21e-0c0d587d677e",
        "colab": {
          "base_uri": "https://localhost:8080/",
          "height": 68
        }
      },
      "source": [
        "name = input(\"enter your name\")\n",
        "age = int(input(\"enter your age\"))\n",
        "print(\"my name is\",name,end='    ')\n",
        "print(\"my age is\",age)"
      ],
      "execution_count": 0,
      "outputs": [
        {
          "output_type": "stream",
          "text": [
            "enter your namevikas reddy\n",
            "enter your age19\n",
            "my name is vikas reddy    my age is 19\n"
          ],
          "name": "stdout"
        }
      ]
    },
    {
      "cell_type": "markdown",
      "metadata": {
        "id": "SOwhiTNOPTyf",
        "colab_type": "text"
      },
      "source": [
        "### ***fundamental datatypes***\n",
        "\n",
        "\n",
        "1.  int\n",
        "2.  float\n",
        "3.  complex\n",
        "4.  Boolean\n",
        "5.  string\n",
        "\n"
      ]
    },
    {
      "cell_type": "code",
      "metadata": {
        "id": "E4nAN_yrP2Hy",
        "colab_type": "code",
        "outputId": "db19bd19-faae-4bba-b6c4-e90a41b0a949",
        "colab": {
          "base_uri": "https://localhost:8080/",
          "height": 34
        }
      },
      "source": [
        "a = 4\n",
        "b = 2.87\n",
        "c = 5+6j\n",
        "d = 3+4j\n",
        "print(type(a),type(b),type(c))\n"
      ],
      "execution_count": 0,
      "outputs": [
        {
          "output_type": "stream",
          "text": [
            "<class 'int'> <class 'float'> <class 'complex'>\n"
          ],
          "name": "stdout"
        }
      ]
    },
    {
      "cell_type": "code",
      "metadata": {
        "id": "s4CfS3_hRnTS",
        "colab_type": "code",
        "outputId": "d2f9b43c-13d5-4a61-c5db-55abf7f755e6",
        "colab": {
          "base_uri": "https://localhost:8080/",
          "height": 34
        }
      },
      "source": [
        "print(c+d)"
      ],
      "execution_count": 0,
      "outputs": [
        {
          "output_type": "stream",
          "text": [
            "(8+10j)\n"
          ],
          "name": "stdout"
        }
      ]
    },
    {
      "cell_type": "code",
      "metadata": {
        "id": "jO9ksyF0VB8c",
        "colab_type": "code",
        "outputId": "504eb06b-7f8b-476c-a89a-c23797234656",
        "colab": {
          "base_uri": "https://localhost:8080/",
          "height": 34
        }
      },
      "source": [
        "print(c*d)"
      ],
      "execution_count": 0,
      "outputs": [
        {
          "output_type": "stream",
          "text": [
            "(-9+38j)\n"
          ],
          "name": "stdout"
        }
      ]
    },
    {
      "cell_type": "code",
      "metadata": {
        "id": "oEv3PdMkVPnb",
        "colab_type": "code",
        "outputId": "97b2cfc9-4b4e-417b-9a82-c2fa65e3b49f",
        "colab": {
          "base_uri": "https://localhost:8080/",
          "height": 34
        }
      },
      "source": [
        "print(c/d)"
      ],
      "execution_count": 0,
      "outputs": [
        {
          "output_type": "stream",
          "text": [
            "(1.56-0.08j)\n"
          ],
          "name": "stdout"
        }
      ]
    },
    {
      "cell_type": "code",
      "metadata": {
        "id": "yQEl-OugVUW7",
        "colab_type": "code",
        "outputId": "4a4d5c4c-d3db-4bef-e598-fcb47423e90d",
        "colab": {
          "base_uri": "https://localhost:8080/",
          "height": 34
        }
      },
      "source": [
        "10<20"
      ],
      "execution_count": 0,
      "outputs": [
        {
          "output_type": "execute_result",
          "data": {
            "text/plain": [
              "True"
            ]
          },
          "metadata": {
            "tags": []
          },
          "execution_count": 26
        }
      ]
    },
    {
      "cell_type": "code",
      "metadata": {
        "id": "kxk0SOO6Vob7",
        "colab_type": "code",
        "outputId": "7b17784a-1c52-471f-bb20-8e86521faced",
        "colab": {
          "base_uri": "https://localhost:8080/",
          "height": 34
        }
      },
      "source": [
        "10>20"
      ],
      "execution_count": 0,
      "outputs": [
        {
          "output_type": "execute_result",
          "data": {
            "text/plain": [
              "False"
            ]
          },
          "metadata": {
            "tags": []
          },
          "execution_count": 27
        }
      ]
    },
    {
      "cell_type": "code",
      "metadata": {
        "id": "iiOqcYz6Vutb",
        "colab_type": "code",
        "outputId": "42a7e491-9e55-45ee-89a1-a38fba7eb643",
        "colab": {
          "base_uri": "https://localhost:8080/",
          "height": 34
        }
      },
      "source": [
        "str1 = \"Gitam\"\n",
        "str2 = 'University'\n",
        "str1+str2"
      ],
      "execution_count": 0,
      "outputs": [
        {
          "output_type": "execute_result",
          "data": {
            "text/plain": [
              "'GitamUniversity'"
            ]
          },
          "metadata": {
            "tags": []
          },
          "execution_count": 30
        }
      ]
    },
    {
      "cell_type": "code",
      "metadata": {
        "id": "FK7rpTlKWTEc",
        "colab_type": "code",
        "outputId": "90ac98cb-864b-4b00-a63c-5e31bfa155f3",
        "colab": {
          "base_uri": "https://localhost:8080/",
          "height": 34
        }
      },
      "source": [
        "len(str1)"
      ],
      "execution_count": 0,
      "outputs": [
        {
          "output_type": "execute_result",
          "data": {
            "text/plain": [
              "5"
            ]
          },
          "metadata": {
            "tags": []
          },
          "execution_count": 31
        }
      ]
    },
    {
      "cell_type": "code",
      "metadata": {
        "id": "kGmwfxqJW1Wb",
        "colab_type": "code",
        "outputId": "2001bede-3f43-46e9-8cb0-8156f5e3c604",
        "colab": {
          "base_uri": "https://localhost:8080/",
          "height": 34
        }
      },
      "source": [
        "len(str2)"
      ],
      "execution_count": 0,
      "outputs": [
        {
          "output_type": "execute_result",
          "data": {
            "text/plain": [
              "10"
            ]
          },
          "metadata": {
            "tags": []
          },
          "execution_count": 32
        }
      ]
    },
    {
      "cell_type": "code",
      "metadata": {
        "id": "T8dmxm5QW4ZM",
        "colab_type": "code",
        "outputId": "464ee5d8-928b-4ca5-dfe0-b5fe5550ca26",
        "colab": {
          "base_uri": "https://localhost:8080/",
          "height": 34
        }
      },
      "source": [
        "a = 123456789123\n",
        "print(len(str(a)))"
      ],
      "execution_count": 0,
      "outputs": [
        {
          "output_type": "stream",
          "text": [
            "12\n"
          ],
          "name": "stdout"
        }
      ]
    },
    {
      "cell_type": "code",
      "metadata": {
        "id": "-fmSSJyYZGur",
        "colab_type": "code",
        "outputId": "4489b013-53de-4489-daa4-d16da69085a5",
        "colab": {
          "base_uri": "https://localhost:8080/",
          "height": 34
        }
      },
      "source": [
        "result = 10<20\n",
        "print(result,type(result))"
      ],
      "execution_count": 0,
      "outputs": [
        {
          "output_type": "stream",
          "text": [
            "True <class 'bool'>\n"
          ],
          "name": "stdout"
        }
      ]
    },
    {
      "cell_type": "markdown",
      "metadata": {
        "id": "zh5ogBpfY39B",
        "colab_type": "text"
      },
      "source": [
        "## **Operators**\n",
        "\n",
        "1.   Arithametic Operators(+,-,*,/,%)\n",
        "2.   Logical Operators(and,or,not)\n",
        "3.   Relational Operators(>,=,>=,<,<=,==,!=)\n",
        "4.   Membership Operators(in,not in)\n",
        "\n"
      ]
    },
    {
      "cell_type": "code",
      "metadata": {
        "id": "JmrzjGfKXm1s",
        "colab_type": "code",
        "outputId": "7a86c1a3-9a63-4a94-d74c-13550724cfb6",
        "colab": {
          "base_uri": "https://localhost:8080/",
          "height": 136
        }
      },
      "source": [
        "a = 44 \n",
        "b = 23\n",
        "print(a+b)\n",
        "print(a-b)\n",
        "print(a*b)\n",
        "print(a/b)\n",
        "print(a%b)\n",
        "print(a//b)\n",
        "print(a**b)"
      ],
      "execution_count": 0,
      "outputs": [
        {
          "output_type": "stream",
          "text": [
            "67\n",
            "21\n",
            "1012\n",
            "1.9130434782608696\n",
            "21\n",
            "1\n",
            "63010301716571244044547337329871683584\n"
          ],
          "name": "stdout"
        }
      ]
    },
    {
      "cell_type": "code",
      "metadata": {
        "id": "j1bgLIJObvag",
        "colab_type": "code",
        "outputId": "cfe37f64-77bd-4215-97a4-aede82c29c53",
        "colab": {
          "base_uri": "https://localhost:8080/",
          "height": 68
        }
      },
      "source": [
        "# Logical Operators\n",
        "i = 10\n",
        "j = 20\n",
        "print(i>1 and i<20)\n",
        "print(i>12 or i<44)\n",
        "print(not i)"
      ],
      "execution_count": 0,
      "outputs": [
        {
          "output_type": "stream",
          "text": [
            "True\n",
            "True\n",
            "False\n"
          ],
          "name": "stdout"
        }
      ]
    },
    {
      "cell_type": "code",
      "metadata": {
        "id": "gn-EJQW8fMLs",
        "colab_type": "code",
        "outputId": "3bfdd397-6552-4841-b0f2-40e78ad8d25f",
        "colab": {
          "base_uri": "https://localhost:8080/",
          "height": 119
        }
      },
      "source": [
        "# Relational operators\n",
        "print(i==j)\n",
        "print(i!=j)\n",
        "print(i>j)\n",
        "print(i<j)\n",
        "print(i>=j)\n",
        "print(i<=j)"
      ],
      "execution_count": 0,
      "outputs": [
        {
          "output_type": "stream",
          "text": [
            "False\n",
            "True\n",
            "False\n",
            "True\n",
            "False\n",
            "True\n"
          ],
          "name": "stdout"
        }
      ]
    },
    {
      "cell_type": "code",
      "metadata": {
        "id": "oqG1v4PVhoGe",
        "colab_type": "code",
        "outputId": "a57c1049-c822-4c46-dff7-4dca5fb9ef83",
        "colab": {
          "base_uri": "https://localhost:8080/",
          "height": 51
        }
      },
      "source": [
        "# Membership Operators\n",
        "str1 = 'vikas'\n",
        "print('a' in str1)\n",
        "print('a' not in str1)"
      ],
      "execution_count": 0,
      "outputs": [
        {
          "output_type": "stream",
          "text": [
            "True\n",
            "False\n"
          ],
          "name": "stdout"
        }
      ]
    },
    {
      "cell_type": "markdown",
      "metadata": {
        "id": "cgUN7deYjSwD",
        "colab_type": "text"
      },
      "source": [
        "## Conditional Statements\n",
        "\n",
        "1.   if\n",
        "2.   else\n",
        "3.   elif\n",
        "\n"
      ]
    },
    {
      "cell_type": "markdown",
      "metadata": {
        "id": "rH44oUIblF77",
        "colab_type": "text"
      },
      "source": [
        "# syntax\n",
        "if condition:\n",
        "    statements\n",
        "    else:\n",
        "      statements"
      ]
    },
    {
      "cell_type": "code",
      "metadata": {
        "id": "lnTIFaS9kRib",
        "colab_type": "code",
        "outputId": "e5d5fb43-eeb1-41cd-c978-876b0c9e8342",
        "colab": {
          "base_uri": "https://localhost:8080/",
          "height": 51
        }
      },
      "source": [
        "# to check given number is even or odd\n",
        "n = int(input(\"enter any number \"))\n",
        "if n%2==0:\n",
        "    print('even')\n",
        "else:\n",
        "    print(\"odd\")"
      ],
      "execution_count": 0,
      "outputs": [
        {
          "output_type": "stream",
          "text": [
            "enter any number 44\n",
            "even\n"
          ],
          "name": "stdout"
        }
      ]
    },
    {
      "cell_type": "code",
      "metadata": {
        "id": "4jQWG-YJmNlx",
        "colab_type": "code",
        "colab": {}
      },
      "source": [
        ""
      ],
      "execution_count": 0,
      "outputs": []
    }
  ]
}