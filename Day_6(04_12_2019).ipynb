{
  "nbformat": 4,
  "nbformat_minor": 0,
  "metadata": {
    "colab": {
      "name": "Day-6(04/12/2019).ipynb",
      "provenance": [],
      "include_colab_link": true
    },
    "kernelspec": {
      "name": "python3",
      "display_name": "Python 3"
    }
  },
  "cells": [
    {
      "cell_type": "markdown",
      "metadata": {
        "id": "view-in-github",
        "colab_type": "text"
      },
      "source": [
        "<a href=\"https://colab.research.google.com/github/vikasreddy407/python12/blob/master/Day_6(04_12_2019).ipynb\" target=\"_parent\"><img src=\"https://colab.research.google.com/assets/colab-badge.svg\" alt=\"Open In Colab\"/></a>"
      ]
    },
    {
      "cell_type": "code",
      "metadata": {
        "id": "BUPeAHAE_Efl",
        "colab_type": "code",
        "colab": {}
      },
      "source": [
        "# Accept a number and check weather the  given number is divisible by 3 and 5\n",
        "x = int(input(\"enter a number\"))\n",
        "if x%3==0 and x%5==0:\n",
        "  print(\"true\")\n",
        "else:\n",
        "  print(\"flase\")"
      ],
      "execution_count": 0,
      "outputs": []
    },
    {
      "cell_type": "code",
      "metadata": {
        "id": "jWcwQ2l_Eeqd",
        "colab_type": "code",
        "outputId": "d15fb336-4cda-48ff-f6e5-fe5ec6ec9ae9",
        "colab": {
          "base_uri": "https://localhost:8080/",
          "height": 50
        }
      },
      "source": [
        "# Accept a number and check weather the given number is positive or negative or 0\n",
        "x = int(input(\"enter a number\"))\n",
        "if x<0:\n",
        "  print(\"negative\")\n",
        "elif x==0:\n",
        "    print(\"zero\")\n",
        "else:\n",
        "    print(\"positive\")"
      ],
      "execution_count": 0,
      "outputs": [
        {
          "output_type": "stream",
          "text": [
            "enter a number5\n",
            "positive\n"
          ],
          "name": "stdout"
        }
      ]
    },
    {
      "cell_type": "code",
      "metadata": {
        "id": "Vm4hXL2SFftv",
        "colab_type": "code",
        "outputId": "2b08f61c-ac81-4b21-9c48-487c712ffca5",
        "colab": {
          "base_uri": "https://localhost:8080/",
          "height": 51
        }
      },
      "source": [
        "# Accept a age of person and decide whether elligible to vote or not\n",
        "x = int(input(\"enter the age of person\"))\n",
        "if x>=18:\n",
        "  print(\"elligible\")\n",
        "else:\n",
        "  print(\"not elligible\")"
      ],
      "execution_count": 0,
      "outputs": [
        {
          "output_type": "stream",
          "text": [
            "enter the age of person20\n",
            "elligible\n"
          ],
          "name": "stdout"
        }
      ]
    },
    {
      "cell_type": "markdown",
      "metadata": {
        "id": "UwPSuHUMIRyL",
        "colab_type": "text"
      },
      "source": [
        "# Accept 3 subjects marks of a student if  student get minimum marks 30 find the average else fail\n",
        "# if average is greater than 75 print A grade \n",
        "#if average is 65-75 print B\n",
        "# if average is 45-65 print C\n",
        "# if average is 30-45 print D\n",
        "# if average is<30 print fail"
      ]
    },
    {
      "cell_type": "code",
      "metadata": {
        "id": "5sXV3QrqTodN",
        "colab_type": "code",
        "colab": {}
      },
      "source": [
        "x1 = int(input(\"marks of subject1\"))\n",
        "x2 = int(input(\"marks of subject2\"))\n",
        "x3 = int(input(\"marks of subject3\"))\n",
        "y=0\n",
        "if x1 >= 30 and x2 >=30 and x3 >= 30:\n",
        "  y = (x1+x2+x3)/3\n",
        "  if y>=75:\n",
        "    print(\"A\")\n",
        "  elif 65<=y<75:\n",
        "    print(\"B\")\n",
        "  elif 45<=y<65:\n",
        "    print(\"C\")\n",
        "  elif 30<=y<45:\n",
        "    print(\"D\")\n",
        "else:\n",
        "  print(\"fail\")\n",
        "  \n",
        "  marks of subject144\n",
        "marks of subject248\n",
        "marks of subject332\n",
        "D"
      ],
      "execution_count": 0,
      "outputs": []
    },
    {
      "cell_type": "markdown",
      "metadata": {
        "id": "p1Or9-MfJHWV",
        "colab_type": "text"
      },
      "source": [
        "# Loops\n",
        "\n",
        "\n",
        "1.   While Loop\n",
        "2.   For Loop\n",
        "\n"
      ]
    },
    {
      "cell_type": "code",
      "metadata": {
        "id": "sjoiAbcHJXZC",
        "colab_type": "code",
        "colab": {}
      },
      "source": [
        "# print number from 1 to N\n",
        "x = int(input(\"enter a number\")) \n",
        "i = 1\n",
        "while i <= x:\n",
        "  print(i, end=\"  \")\n",
        "  i = i + 1"
      ],
      "execution_count": 0,
      "outputs": []
    },
    {
      "cell_type": "code",
      "metadata": {
        "id": "t4sXoecKKNaz",
        "colab_type": "code",
        "outputId": "838dfd52-4bae-48e1-9362-eca1bfdef530",
        "colab": {
          "base_uri": "https://localhost:8080/",
          "height": 50
        }
      },
      "source": [
        "# print all natural even numbers from 1 to N\n",
        "x = int(input(\"enter a number\"))\n",
        "i = 1\n",
        "while i <= x:\n",
        "  if i % 2 == 0:\n",
        "    print(i, end=\"  \")\n",
        "  i = i + 1"
      ],
      "execution_count": 0,
      "outputs": [
        {
          "output_type": "stream",
          "text": [
            "enter a number20\n",
            "2  4  6  8  10  12  14  16  18  20  "
          ],
          "name": "stdout"
        }
      ]
    },
    {
      "cell_type": "code",
      "metadata": {
        "id": "R4A2XzlBLe0U",
        "colab_type": "code",
        "outputId": "5c9dcf8e-0107-4414-ae5c-44c702fc113f",
        "colab": {
          "base_uri": "https://localhost:8080/",
          "height": 50
        }
      },
      "source": [
        " # print sum of even number from 1 to N\n",
        " x = int(input(\"enter a number\"))\n",
        " i = 1\n",
        " sum = 0\n",
        " while i <= x:\n",
        "   if i % 2 == 0:\n",
        "     sum = sum + i\n",
        "   i = i + 1\n",
        " print(sum)"
      ],
      "execution_count": 0,
      "outputs": [
        {
          "output_type": "stream",
          "text": [
            "enter a number10\n",
            "30\n"
          ],
          "name": "stdout"
        }
      ]
    },
    {
      "cell_type": "code",
      "metadata": {
        "id": "w7GLdfXwOQQG",
        "colab_type": "code",
        "outputId": "6411c2bb-38d8-49a2-aac7-238a41144d14",
        "colab": {
          "base_uri": "https://localhost:8080/",
          "height": 50
        }
      },
      "source": [
        "# Extracting the digits from given number\n",
        "#input-----> 546\n",
        "#output----> 6 4 5\n",
        "x = int(input(\"enter a number\"))\n",
        "while x!=0:\n",
        "  print(x%10, end=\" \")\n",
        "  x = x//10"
      ],
      "execution_count": 0,
      "outputs": [
        {
          "output_type": "stream",
          "text": [
            "enter a number546\n",
            "6 4 5 "
          ],
          "name": "stdout"
        }
      ]
    },
    {
      "cell_type": "code",
      "metadata": {
        "id": "ohq50gZGRd-A",
        "colab_type": "code",
        "outputId": "e8c10801-9635-4771-b464-36d96eb8f4e1",
        "colab": {
          "base_uri": "https://localhost:8080/",
          "height": 50
        }
      },
      "source": [
        "# palindrome\n",
        "x = int(input(\"enter a number\"))\n",
        "rev = 0\n",
        "a = x\n",
        "while x!=0:\n",
        "  r = x%10\n",
        "  rev = rev*10+r\n",
        "  x = x//10\n",
        "if rev == a:\n",
        "    print(\"palindrome\")\n",
        "else:\n",
        "    print(\"not palindrome\")  "
      ],
      "execution_count": 0,
      "outputs": [
        {
          "output_type": "stream",
          "text": [
            "enter a number121\n",
            "palindrome\n"
          ],
          "name": "stdout"
        }
      ]
    },
    {
      "cell_type": "code",
      "metadata": {
        "id": "huRQqx1SUQaT",
        "colab_type": "code",
        "outputId": "08acb741-dab3-4ea4-c1b2-5409422d4817",
        "colab": {
          "base_uri": "https://localhost:8080/",
          "height": 118
        }
      },
      "source": [
        "x= int(input(\"enter a number\"))\n",
        "for i in range(1,x+1,2):\n",
        "  print(i)\n"
      ],
      "execution_count": 0,
      "outputs": [
        {
          "output_type": "stream",
          "text": [
            "enter a number10\n",
            "1\n",
            "3\n",
            "5\n",
            "7\n",
            "9\n"
          ],
          "name": "stdout"
        }
      ]
    },
    {
      "cell_type": "code",
      "metadata": {
        "id": "NIhHLvgwaRQE",
        "colab_type": "code",
        "outputId": "07a6baff-0020-42ed-85c5-1b282031b220",
        "colab": {
          "base_uri": "https://localhost:8080/",
          "height": 50
        }
      },
      "source": [
        "x= int(input(\"enter a number\"))\n",
        "sum=0\n",
        "for i in range(1,x+1):\n",
        "  if (i%2==0):\n",
        "    sum = sum+i\n",
        "print(sum)"
      ],
      "execution_count": 0,
      "outputs": [
        {
          "output_type": "stream",
          "text": [
            "enter a number10\n",
            "30\n"
          ],
          "name": "stdout"
        }
      ]
    },
    {
      "cell_type": "code",
      "metadata": {
        "id": "xkt0J9p2XGkA",
        "colab_type": "code",
        "outputId": "b2eace12-3ea9-4c4c-e101-07122d275cfe",
        "colab": {
          "base_uri": "https://localhost:8080/",
          "height": 50
        }
      },
      "source": [
        "n = input(\"enter your name\")\n",
        "for i in n:\n",
        "  print(i,end=\"\")\n",
        "\n"
      ],
      "execution_count": 0,
      "outputs": [
        {
          "output_type": "stream",
          "text": [
            "enter your nameVIKAS\n",
            "VIKAS"
          ],
          "name": "stdout"
        }
      ]
    },
    {
      "cell_type": "code",
      "metadata": {
        "id": "7bDk-joKbpAV",
        "colab_type": "code",
        "outputId": "b3ec3f1c-cca7-4a44-9135-d1e4421c8149",
        "colab": {
          "base_uri": "https://localhost:8080/",
          "height": 50
        }
      },
      "source": [
        "n= input(\"enter a string\")\n",
        "length = len(n)\n",
        "i=0\n",
        "while i<length:\n",
        "  print(n[i],end=\"\")\n",
        "  i = i + 1"
      ],
      "execution_count": 0,
      "outputs": [
        {
          "output_type": "stream",
          "text": [
            "enter a stringVIKAS\n",
            "VIKAS"
          ],
          "name": "stdout"
        }
      ]
    },
    {
      "cell_type": "code",
      "metadata": {
        "id": "oFuNC0uPfOm8",
        "colab_type": "code",
        "colab": {}
      },
      "source": [
        "Functions\n",
        " def add(x,y):\n",
        "  return x+y\n",
        "  add(10,20)"
      ],
      "execution_count": 0,
      "outputs": []
    },
    {
      "cell_type": "code",
      "metadata": {
        "id": "vpRB0iVvb_HD",
        "colab_type": "code",
        "colab": {}
      },
      "source": [
        "# print sum of even number by function"
      ],
      "execution_count": 0,
      "outputs": []
    }
  ]
}